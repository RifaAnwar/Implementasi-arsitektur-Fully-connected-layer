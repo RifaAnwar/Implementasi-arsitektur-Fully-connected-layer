{
  "nbformat": 4,
  "nbformat_minor": 0,
  "metadata": {
    "colab": {
      "provenance": [],
      "authorship_tag": "ABX9TyOOjC+n0tQ72H5IYWWe1bZy",
      "include_colab_link": true
    },
    "kernelspec": {
      "name": "python3",
      "display_name": "Python 3"
    },
    "language_info": {
      "name": "python"
    }
  },
  "cells": [
    {
      "cell_type": "markdown",
      "metadata": {
        "id": "view-in-github",
        "colab_type": "text"
      },
      "source": [
        "<a href=\"https://colab.research.google.com/github/RifaAnwar/Implementasi-arsitektur-Fully-connected-layer/blob/main/Implementasi%20arsitektur%20Fully%20connected%20layer.ipynb\" target=\"_parent\"><img src=\"https://colab.research.google.com/assets/colab-badge.svg\" alt=\"Open In Colab\"/></a>"
      ]
    },
    {
      "cell_type": "markdown",
      "source": [
        "**Junior / Associate Data Scientist**"
      ],
      "metadata": {
        "id": "Lqfw7nhcvrl5"
      }
    },
    {
      "cell_type": "markdown",
      "source": [
        "#Implementasi arsitektur Fully connected layer"
      ],
      "metadata": {
        "id": "ZUghqjiBv510"
      }
    },
    {
      "cell_type": "code",
      "execution_count": null,
      "metadata": {
        "id": "JbfNqomEt_Tt"
      },
      "outputs": [],
      "source": [
        "import numpy as np\n",
        "import pandas as pd\n",
        "import keras\n",
        "import tensorflow\n",
        "from sklearn.preprocessing import OneHotEncoder\n",
        "from keras.models import Sequential\n",
        "from keras.layers import Dense, Dropout, Flatten, Conv2D, MaxPool2D\n",
        "from sklearn.model_selection import train_test_split\n",
        "from tensorflow.keras.datasets import mnist\n",
        "from keras.utils import np_utils"
      ]
    },
    {
      "cell_type": "code",
      "source": [
        "mnist=mnist.load_data()"
      ],
      "metadata": {
        "id": "uuCgHxINzkqw"
      },
      "execution_count": null,
      "outputs": []
    },
    {
      "cell_type": "code",
      "source": [
        "(x_train,y_train),(x_test,y_test)=mnist\n",
        "x_train,x_val,y_train,y_val=train_test_split(x_train,y_train,test_size=1/12, random_state=42)\n",
        "x_train=x_train.reshape(x_train.shape[0],28,28,1).astype('float32')\n",
        "x_test=x_test.reshape(x_test.shape[0],28,28,1).astype('float32')"
      ],
      "metadata": {
        "id": "lGzNkr4aytYu"
      },
      "execution_count": null,
      "outputs": []
    },
    {
      "cell_type": "code",
      "source": [
        "y_train = np_utils.to_categorical(y_train)\n",
        "y_test = np_utils.to_categorical(y_test)"
      ],
      "metadata": {
        "id": "70dgDjQnzgBR"
      },
      "execution_count": null,
      "outputs": []
    },
    {
      "cell_type": "code",
      "source": [
        "print(\"data training\",x_train.shape)\n",
        "print(\"data test\",x_test.shape)\n",
        "print(\"data validasi\",x_val.shape)"
      ],
      "metadata": {
        "colab": {
          "base_uri": "https://localhost:8080/"
        },
        "id": "hS9TH7wT1BnQ",
        "outputId": "c551533a-02e1-4ef8-ec3c-6ace0bbdea4b"
      },
      "execution_count": null,
      "outputs": [
        {
          "output_type": "stream",
          "name": "stdout",
          "text": [
            "data training (55000, 28, 28, 1)\n",
            "data test (10000, 28, 28, 1)\n",
            "data validasi (5000, 28, 28)\n"
          ]
        }
      ]
    },
    {
      "cell_type": "code",
      "source": [
        "encoder = OneHotEncoder()\n",
        "encode = encoder.fit_transform(x_val.reshape(-1, 1)).toarray()\n",
        "print(encode)"
      ],
      "metadata": {
        "colab": {
          "base_uri": "https://localhost:8080/"
        },
        "id": "11RNaPx21OaI",
        "outputId": "9e421df3-7335-4ef7-a643-0a4ad6f65d2a"
      },
      "execution_count": null,
      "outputs": [
        {
          "output_type": "stream",
          "name": "stdout",
          "text": [
            "[[1. 0. 0. ... 0. 0. 0.]\n",
            " [1. 0. 0. ... 0. 0. 0.]\n",
            " [1. 0. 0. ... 0. 0. 0.]\n",
            " ...\n",
            " [1. 0. 0. ... 0. 0. 0.]\n",
            " [1. 0. 0. ... 0. 0. 0.]\n",
            " [1. 0. 0. ... 0. 0. 0.]]\n"
          ]
        }
      ]
    },
    {
      "cell_type": "markdown",
      "source": [
        "##membuat Model"
      ],
      "metadata": {
        "id": "O4mOZr742Qk9"
      }
    },
    {
      "cell_type": "code",
      "source": [
        "model=Sequential()\n",
        "model.add(Conv2D(32,(3,3), input_shape=(28,28,1),activation='relu'))\n",
        "model.add(MaxPool2D(pool_size=(2,2)))\n",
        "model.add(Dropout(0.2))\n",
        "model.add(Flatten())\n",
        "model.add(Dense(64,activation='relu'))\n",
        "model.add(Dropout(0.5))\n",
        "model.add(Dense(10,activation='softmax'))"
      ],
      "metadata": {
        "id": "inbmgrqm2aAJ"
      },
      "execution_count": null,
      "outputs": []
    },
    {
      "cell_type": "markdown",
      "source": [
        "##Menjalankan model"
      ],
      "metadata": {
        "id": "AKUtRUdV3XSO"
      }
    },
    {
      "cell_type": "code",
      "source": [
        "model.compile(loss='categorical_crossentropy',optimizer='adam',metrics=['accuracy'])\n",
        "model.summary()"
      ],
      "metadata": {
        "colab": {
          "base_uri": "https://localhost:8080/"
        },
        "id": "TxmFua-83ahk",
        "outputId": "577eb28b-1898-4c47-93b4-387d40397376"
      },
      "execution_count": null,
      "outputs": [
        {
          "output_type": "stream",
          "name": "stdout",
          "text": [
            "Model: \"sequential\"\n",
            "_________________________________________________________________\n",
            " Layer (type)                Output Shape              Param #   \n",
            "=================================================================\n",
            " conv2d (Conv2D)             (None, 26, 26, 32)        320       \n",
            "                                                                 \n",
            " max_pooling2d (MaxPooling2D  (None, 13, 13, 32)       0         \n",
            " )                                                               \n",
            "                                                                 \n",
            " dropout (Dropout)           (None, 13, 13, 32)        0         \n",
            "                                                                 \n",
            " flatten (Flatten)           (None, 5408)              0         \n",
            "                                                                 \n",
            " dense (Dense)               (None, 64)                346176    \n",
            "                                                                 \n",
            " dropout_1 (Dropout)         (None, 64)                0         \n",
            "                                                                 \n",
            " dense_1 (Dense)             (None, 10)                650       \n",
            "                                                                 \n",
            "=================================================================\n",
            "Total params: 347,146\n",
            "Trainable params: 347,146\n",
            "Non-trainable params: 0\n",
            "_________________________________________________________________\n"
          ]
        }
      ]
    },
    {
      "cell_type": "markdown",
      "source": [
        "##Model fitting"
      ],
      "metadata": {
        "id": "mo6sR7b75KLp"
      }
    },
    {
      "cell_type": "code",
      "source": [
        "Mf=model.fit(x_train,y_train,validation_data=(x_test,y_test),epochs=10, batch_size=200, verbose=1)"
      ],
      "metadata": {
        "colab": {
          "base_uri": "https://localhost:8080/"
        },
        "id": "VP1V9AQU5c9G",
        "outputId": "3cf2378a-1d4a-46d2-d7fe-acc85ef2bea1"
      },
      "execution_count": null,
      "outputs": [
        {
          "output_type": "stream",
          "name": "stdout",
          "text": [
            "Epoch 1/10\n",
            "275/275 [==============================] - 33s 119ms/step - loss: 0.6576 - accuracy: 0.7605 - val_loss: 0.1874 - val_accuracy: 0.9606\n",
            "Epoch 2/10\n",
            "275/275 [==============================] - 29s 106ms/step - loss: 0.5279 - accuracy: 0.8130 - val_loss: 0.1336 - val_accuracy: 0.9702\n",
            "Epoch 3/10\n",
            "275/275 [==============================] - 29s 105ms/step - loss: 0.4608 - accuracy: 0.8355 - val_loss: 0.1298 - val_accuracy: 0.9716\n",
            "Epoch 4/10\n",
            "275/275 [==============================] - 31s 111ms/step - loss: 0.4074 - accuracy: 0.8536 - val_loss: 0.1079 - val_accuracy: 0.9733\n",
            "Epoch 5/10\n",
            "275/275 [==============================] - 29s 106ms/step - loss: 0.3508 - accuracy: 0.8783 - val_loss: 0.0907 - val_accuracy: 0.9763\n",
            "Epoch 6/10\n",
            "275/275 [==============================] - 29s 106ms/step - loss: 0.3004 - accuracy: 0.8951 - val_loss: 0.0884 - val_accuracy: 0.9764\n",
            "Epoch 7/10\n",
            "275/275 [==============================] - 32s 118ms/step - loss: 0.2779 - accuracy: 0.9038 - val_loss: 0.0897 - val_accuracy: 0.9763\n",
            "Epoch 8/10\n",
            "275/275 [==============================] - 29s 107ms/step - loss: 0.2553 - accuracy: 0.9112 - val_loss: 0.0820 - val_accuracy: 0.9789\n",
            "Epoch 9/10\n",
            "275/275 [==============================] - 30s 109ms/step - loss: 0.2303 - accuracy: 0.9211 - val_loss: 0.0785 - val_accuracy: 0.9793\n",
            "Epoch 10/10\n",
            "275/275 [==============================] - 29s 106ms/step - loss: 0.2083 - accuracy: 0.9290 - val_loss: 0.0828 - val_accuracy: 0.9800\n"
          ]
        }
      ]
    },
    {
      "cell_type": "markdown",
      "source": [
        "##uji Model"
      ],
      "metadata": {
        "id": "22-QgN4bAPVE"
      }
    },
    {
      "cell_type": "code",
      "source": [
        "y_pred=model.predict(x_test)\n",
        "y_pred=(y_pred>0.5)"
      ],
      "metadata": {
        "colab": {
          "base_uri": "https://localhost:8080/"
        },
        "id": "wjBs5jy3ANZ2",
        "outputId": "5a209819-a18f-46ee-fcd0-fe033c68af8f"
      },
      "execution_count": null,
      "outputs": [
        {
          "output_type": "stream",
          "name": "stdout",
          "text": [
            "313/313 [==============================] - 2s 6ms/step\n"
          ]
        }
      ]
    },
    {
      "cell_type": "markdown",
      "source": [
        "##confusion Matrix"
      ],
      "metadata": {
        "id": "GA7DmAHF9GTI"
      }
    },
    {
      "cell_type": "code",
      "source": [
        "from sklearn.metrics import confusion_matrix\n",
        "y_pred=model.predict(x_test)\n",
        "y_pred_one_hot=np.argmax(y_pred,axis=1)\n",
        "y_test_one_hot=np.argmax(y_test,axis=1)\n",
        "CM=confusion_matrix(y_test_one_hot,y_pred_one_hot)\n",
        "print(CM)"
      ],
      "metadata": {
        "colab": {
          "base_uri": "https://localhost:8080/"
        },
        "id": "lk7gGFO09W_V",
        "outputId": "bacf2ac7-ea99-4dbb-ed5b-92316c29a005"
      },
      "execution_count": null,
      "outputs": [
        {
          "output_type": "stream",
          "name": "stdout",
          "text": [
            "313/313 [==============================] - 2s 6ms/step\n",
            "[[ 970    0    3    0    0    1    1    1    4    0]\n",
            " [   0 1126    3    1    1    0    2    0    2    0]\n",
            " [   4    3 1016    0    1    0    1    5    2    0]\n",
            " [   0    0    2  996    0    6    0    4    2    0]\n",
            " [   1    1    1    0  964    0    3    0    3    9]\n",
            " [   2    0    0   11    0  871    3    0    5    0]\n",
            " [   5    2    0    0    3    4  943    0    1    0]\n",
            " [   1    3   12    3    3    0    0 1001    2    3]\n",
            " [   7    0    8    1    4    1    1    1  946    5]\n",
            " [   9    5    0    6   12    5    0    3    2  967]]\n"
          ]
        }
      ]
    },
    {
      "cell_type": "markdown",
      "source": [
        "##Evaluasi Model"
      ],
      "metadata": {
        "id": "fdEDjnl3-fiZ"
      }
    },
    {
      "cell_type": "code",
      "source": [
        "from sklearn.metrics import classification_report\n",
        "report=classification_report(y_test_one_hot,y_pred_one_hot)\n",
        "print(report)"
      ],
      "metadata": {
        "colab": {
          "base_uri": "https://localhost:8080/"
        },
        "id": "ZnUNXYlZ-vFx",
        "outputId": "f9e64867-cb8d-4cb3-d04f-be31f3678dfd"
      },
      "execution_count": null,
      "outputs": [
        {
          "output_type": "stream",
          "name": "stdout",
          "text": [
            "              precision    recall  f1-score   support\n",
            "\n",
            "           0       0.97      0.99      0.98       980\n",
            "           1       0.99      0.99      0.99      1135\n",
            "           2       0.97      0.98      0.98      1032\n",
            "           3       0.98      0.99      0.98      1010\n",
            "           4       0.98      0.98      0.98       982\n",
            "           5       0.98      0.98      0.98       892\n",
            "           6       0.99      0.98      0.99       958\n",
            "           7       0.99      0.97      0.98      1028\n",
            "           8       0.98      0.97      0.97       974\n",
            "           9       0.98      0.96      0.97      1009\n",
            "\n",
            "    accuracy                           0.98     10000\n",
            "   macro avg       0.98      0.98      0.98     10000\n",
            "weighted avg       0.98      0.98      0.98     10000\n",
            "\n"
          ]
        }
      ]
    },
    {
      "cell_type": "code",
      "source": [],
      "metadata": {
        "id": "XUTN9zF1_u9R"
      },
      "execution_count": null,
      "outputs": []
    }
  ]
}